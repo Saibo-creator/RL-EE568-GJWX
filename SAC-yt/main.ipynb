{
 "cells": [
  {
   "cell_type": "code",
   "execution_count": null,
   "id": "18e164ae-8105-4fdf-9e6d-59579343cc82",
   "metadata": {},
   "outputs": [],
   "source": [
    "# !python sac.py --env MountainCarContinuous-v0 --seed 0 \\\n",
    "#                             --total_steps 250000 --start_steps 10000 --eval_interval 5000 --n_eval_episodes 10 --replay_size 1000000 \\\n",
    "#                             --batch_size 256 --gamma 0.99 --tau 0.005 --lr 3e-4 \\\n",
    "#                             --alpha 0.2 --automatic_entropy_tuning False --hidden_dim 256"
   ]
  },
  {
   "cell_type": "code",
   "execution_count": null,
   "id": "54e34951-f7f1-4c1f-959a-554651d06836",
   "metadata": {},
   "outputs": [],
   "source": [
    "!pip install -q gymnasium"
   ]
  },
  {
   "cell_type": "code",
   "execution_count": null,
   "id": "4717c45f-c266-4cb8-a7fa-363e80896883",
   "metadata": {},
   "outputs": [],
   "source": [
    "!python sac.py --env MountainCarContinuous-v0 --seed 0 \\\n",
    "                            --total_steps 50000 --start_steps 0 --eval_interval 1000 --n_eval_episodes 10 --replay_size 50000 \\\n",
    "                            --batch_size 512 --gamma 0.9999 --tau 0.01 --lr 3e-4 --train_freq 32 --gradient_step 32 \\\n",
    "                            --alpha 0.1 --automatic_entropy_tuning False --hidden_dim 64 --use_sde 1"
   ]
  },
  {
   "cell_type": "code",
   "execution_count": 3,
   "id": "18cb1b8a-e25a-469b-91f8-7d2f790b307c",
   "metadata": {},
   "outputs": [
    {
     "name": "stdout",
     "output_type": "stream",
     "text": [
      "Using cuda device\n",
      "Logging to output/tb/SAC_1\n"
     ]
    },
    {
     "name": "stderr",
     "output_type": "stream",
     "text": [
      "\n",
      "KeyboardInterrupt\n",
      "\n"
     ]
    }
   ],
   "source": [
    "# !python sac.py --env Pendulum-v1 --seed 0 \\\n",
    "#                 --total_steps 20000 --start_steps 0 --eval_interval 1000 --n_eval_episodes 10 --replay_size 1000000 \\\n",
    "#                 --batch_size 256 --gamma 0.99 --tau 0.005 --lr 1e-3 \\\n",
    "#                 --alpha 0.1 --automatic_entropy_tuning False --hidden_dim 256"
   ]
  },
  {
   "cell_type": "code",
   "execution_count": null,
   "id": "ec5a01d7-74bb-4087-96e2-f1ff35d7a40f",
   "metadata": {},
   "outputs": [],
   "source": []
  }
 ],
 "metadata": {
  "kernelspec": {
   "display_name": "Python 3 (ipykernel)",
   "language": "python",
   "name": "python3"
  },
  "language_info": {
   "codemirror_mode": {
    "name": "ipython",
    "version": 3
   },
   "file_extension": ".py",
   "mimetype": "text/x-python",
   "name": "python",
   "nbconvert_exporter": "python",
   "pygments_lexer": "ipython3",
   "version": "3.10.12"
  }
 },
 "nbformat": 4,
 "nbformat_minor": 5
}
