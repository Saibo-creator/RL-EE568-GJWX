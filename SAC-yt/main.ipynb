{
 "cells": [
  {
   "cell_type": "code",
   "execution_count": null,
   "id": "18e164ae-8105-4fdf-9e6d-59579343cc82",
   "metadata": {},
   "outputs": [],
   "source": [
    "# !python sac.py --env MountainCarContinuous-v0 --seed 0 \\\n",
    "#                             --total_steps 250000 --start_steps 10000 --eval_interval 5000 --n_eval_episodes 10 --replay_size 1000000 \\\n",
    "#                             --batch_size 256 --gamma 0.99 --tau 0.005 --lr 3e-4 \\\n",
    "#                             --alpha 0.2 --automatic_entropy_tuning False --hidden_dim 256"
   ]
  },
  {
   "cell_type": "code",
   "execution_count": null,
   "id": "54e34951-f7f1-4c1f-959a-554651d06836",
   "metadata": {},
   "outputs": [],
   "source": [
    "# !pip install -q gymnasium"
   ]
  },
  {
   "cell_type": "code",
   "execution_count": null,
   "id": "4717c45f-c266-4cb8-a7fa-363e80896883",
   "metadata": {},
   "outputs": [],
   "source": [
    "for use_sde in [0,1]:\n",
    "    for train_freq in [1, 32]:\n",
    "        for gradient_step in [1, 32]:\n",
    "            for alpha in [0.1]:\n",
    "                for lr in [3e-4]:\n",
    "                    for seed in [0, 42, 3407]:\n",
    "                        !python sac.py --env MountainCarContinuous-v0 --seed $seed \\\n",
    "                                                    --total_steps 20000 --start_steps 0 --eval_interval 500 --n_eval_episodes 10 --replay_size 50000 \\\n",
    "                                                    --batch_size 512 --gamma 0.9999 --tau 0.01 --lr $lr --train_freq $train_freq --gradient_step $gradient_step \\\n",
    "                                                    --alpha $alpha --automatic_entropy_tuning False --hidden_dim 64 --use_sde $use_sde"
   ]
  },
  {
   "cell_type": "code",
   "execution_count": null,
   "id": "e535883b-9c92-4bd4-9e3e-6ecebcae9cac",
   "metadata": {},
   "outputs": [],
   "source": [
    "for use_sde in [1]:\n",
    "    for train_freq in [32]:\n",
    "        for gradient_step in [32]:\n",
    "            for alpha in [0.1,0.2,0.3,0.4,0.5]:\n",
    "                for lr in [3e-4]:\n",
    "                    for seed in [0, 42, 3407]:\n",
    "                        !python sac.py --env MountainCarContinuous-v0 --seed $seed \\\n",
    "                                                    --total_steps 20000 --start_steps 0 --eval_interval 500 --n_eval_episodes 10 --replay_size 50000 \\\n",
    "                                                    --batch_size 512 --gamma 0.9999 --tau 0.01 --lr $lr --train_freq $train_freq --gradient_step $gradient_step \\\n",
    "                                                    --alpha $alpha --automatic_entropy_tuning False --hidden_dim 64 --use_sde $use_sde"
   ]
  },
  {
   "cell_type": "code",
   "execution_count": null,
   "id": "f7f94f6c-1940-4f86-93f6-dfb2438c1599",
   "metadata": {},
   "outputs": [],
   "source": [
    "for use_sde in [1]:\n",
    "    for train_freq in [32]:\n",
    "        for gradient_step in [32]:\n",
    "            for alpha in [0.1]:\n",
    "                for lr in [1e-4,2e-4,3e-4,7e-4,1e-3]:\n",
    "                    for seed in [0, 42, 3407]:\n",
    "                        !python sac.py --env MountainCarContinuous-v0 --seed $seed \\\n",
    "                                                    --total_steps 20000 --start_steps 0 --eval_interval 500 --n_eval_episodes 10 --replay_size 50000 \\\n",
    "                                                    --batch_size 512 --gamma 0.9999 --tau 0.01 --lr $lr --train_freq $train_freq --gradient_step $gradient_step \\\n",
    "                                                    --alpha $alpha --automatic_entropy_tuning False --hidden_dim 64 --use_sde $use_sde"
   ]
  },
  {
   "cell_type": "code",
   "execution_count": 3,
   "id": "18cb1b8a-e25a-469b-91f8-7d2f790b307c",
   "metadata": {},
   "outputs": [
    {
     "name": "stdout",
     "output_type": "stream",
     "text": [
      "Using cuda device\n",
      "Logging to output/tb/SAC_1\n"
     ]
    },
    {
     "name": "stderr",
     "output_type": "stream",
     "text": [
      "\n",
      "KeyboardInterrupt\n",
      "\n"
     ]
    }
   ],
   "source": [
    "# !python sac.py --env Pendulum-v1 --seed 0 \\\n",
    "#                 --total_steps 20000 --start_steps 0 --eval_interval 1000 --n_eval_episodes 10 --replay_size 1000000 \\\n",
    "#                 --batch_size 256 --gamma 0.99 --tau 0.005 --lr 1e-3 \\\n",
    "#                 --alpha 0.1 --automatic_entropy_tuning False --hidden_dim 256"
   ]
  },
  {
   "cell_type": "code",
   "execution_count": null,
   "id": "ec5a01d7-74bb-4087-96e2-f1ff35d7a40f",
   "metadata": {},
   "outputs": [],
   "source": []
  }
 ],
 "metadata": {
  "kernelspec": {
   "display_name": "Python 3 (ipykernel)",
   "language": "python",
   "name": "python3"
  },
  "language_info": {
   "codemirror_mode": {
    "name": "ipython",
    "version": 3
   },
   "file_extension": ".py",
   "mimetype": "text/x-python",
   "name": "python",
   "nbconvert_exporter": "python",
   "pygments_lexer": "ipython3",
   "version": "3.10.12"
  }
 },
 "nbformat": 4,
 "nbformat_minor": 5
}
