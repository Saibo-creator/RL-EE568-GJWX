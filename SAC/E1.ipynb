{
 "cells": [
  {
   "cell_type": "code",
   "execution_count": null,
   "id": "18e164ae-8105-4fdf-9e6d-59579343cc82",
   "metadata": {},
   "outputs": [],
   "source": [
    "# !python sac.py --env MountainCarContinuous-v0 --seed 0 \\\n",
    "#                             --total_steps 250000 --start_steps 10000 --eval_interval 10000 --n_eval_episodes 5 --replay_size 1000000 \\\n",
    "#                             --batch_size 256 --gamma 0.99 --tau 0.005 --lr 3e-4 \\\n",
    "#                             --alpha 0.2 --automatic_entropy_tuning False --hidden_dim 256"
   ]
  },
  {
   "cell_type": "code",
   "execution_count": null,
   "id": "54e34951-f7f1-4c1f-959a-554651d06836",
   "metadata": {},
   "outputs": [],
   "source": [
    "!pip install -q gymnasium"
   ]
  },
  {
   "cell_type": "code",
   "execution_count": 3,
   "id": "df588d26-d96f-4fcc-bc35-da781b332b75",
   "metadata": {},
   "outputs": [
    {
     "name": "stdout",
     "output_type": "stream",
     "text": [
      "Running with config: namespace(env='MountainCarContinuous-v0', seed=0, total_steps=50000, start_steps=0, eval_interval=1000, n_eval_episodes=5, train_freq=32, gradient_step=64, batch_size=256, replay_size=50000, gamma=0.9999, tau=0.01, lr=0.00015, alpha=0.1, automatic_entropy_tuning=True, target_entropy=None, hidden_dim=64, use_sde=1, sde_sample_freq=-1, device='cuda')\n",
      "./runs/SAC_MountainCarContinuous-v0_a-0.1_lr-0.00015_bs-256_tf-32_gd-64_sde-1_s-0.npz\n",
      "  0%|                                                 | 0/50000 [00:00<?, ?it/s]"
     ]
    },
    {
     "name": "stderr",
     "output_type": "stream",
     "text": [
      "\n",
      "KeyboardInterrupt\n",
      "\n"
     ]
    }
   ],
   "source": [
    "# for use_sde in [1]:\n",
    "#     for train_freq in [32]:\n",
    "#         for gradient_step_time in [1]:\n",
    "#             for alpha in [0.1]:\n",
    "#                 # for lr in [3e-4]:\n",
    "#                 for bs in [256, 1024]:\n",
    "#                     for seed in [0, 42, 123, 3407]:\n",
    "#                         gradient_step = int(train_freq * gradient_step_time * 512/bs)\n",
    "#                         lr = bs/512 * 3e-4\n",
    "#                         !python sac.py --env MountainCarContinuous-v0 --seed $seed \\\n",
    "#                                                     --total_steps 50000 --start_steps 0 --eval_interval 1000 --n_eval_episodes 5 --replay_size 50000 \\\n",
    "#                                                     --batch_size $bs --gamma 0.9999 --tau 0.01 --lr $lr --train_freq $train_freq --gradient_step $gradient_step \\\n",
    "#                                                     --alpha $alpha --automatic_entropy_tuning False --hidden_dim 64 --use_sde $use_sde"
   ]
  },
  {
   "cell_type": "code",
   "execution_count": null,
   "id": "18cb1b8a-e25a-469b-91f8-7d2f790b307c",
   "metadata": {},
   "outputs": [],
   "source": [
    "for alpha in [0.1]:\n",
    "    for bs in [256, 512, 1024]:\n",
    "        for seed in [0, 42, 3407]:\n",
    "            !python sac.py --env Pendulum-v1 --seed $seed \\\n",
    "                            --total_steps 20000 --start_steps 0 --eval_interval 1000 --n_eval_episodes 5 --replay_size 1000000 \\\n",
    "                            --batch_size $bs --gamma 0.99 --tau 0.005 --lr 1e-3 \\\n",
    "                            --alpha $alpha --automatic_entropy_tuning False --hidden_dim 256"
   ]
  },
  {
   "cell_type": "code",
   "execution_count": null,
   "id": "d5d64fe3-460a-469e-bc3b-9247106e62c6",
   "metadata": {},
   "outputs": [],
   "source": [
    "for alpha in [0.1]:\n",
    "    for bs in [256]:\n",
    "        for seed in [0, 42, 3407]:\n",
    "            for lr in [1e-4, 5e-3, 1e-2]:\n",
    "                !python sac.py --env Pendulum-v1 --seed $seed \\\n",
    "                                --total_steps 20000 --start_steps 0 --eval_interval 1000 --n_eval_episodes 5 --replay_size 1000000 \\\n",
    "                                --batch_size $bs --gamma 0.99 --tau 0.005 --lr $lr \\\n",
    "                                --alpha $alpha --automatic_entropy_tuning False --hidden_dim 256"
   ]
  },
  {
   "cell_type": "code",
   "execution_count": null,
   "id": "3c111b1f-7012-4833-b411-d978ee6642b1",
   "metadata": {},
   "outputs": [],
   "source": [
    "for alpha in [0.1]:\n",
    "    for bs in [256]:\n",
    "        for hidden_dim in [64,128,256]:\n",
    "            for seed in [0, 42, 3407]:\n",
    "                !python sac.py --env Pendulum-v1 --seed $seed \\\n",
    "                                --total_steps 20000 --start_steps 0 --eval_interval 1000 --n_eval_episodes 5 --replay_size 1000000 \\\n",
    "                                --batch_size $bs --gamma 0.99 --tau 0.005 --lr 1e-3 \\\n",
    "                                --alpha $alpha --automatic_entropy_tuning False --hidden_dim $hidden_dim"
   ]
  },
  {
   "cell_type": "code",
   "execution_count": null,
   "id": "ec5a01d7-74bb-4087-96e2-f1ff35d7a40f",
   "metadata": {},
   "outputs": [],
   "source": [
    "for alpha in [0.1]:\n",
    "    for bs in [256]:\n",
    "        for hidden_dim in [256]:\n",
    "            for tau in [0.001, 0.05, 0.5]:\n",
    "                for seed in [0, 42, 3407]:\n",
    "                    !python sac.py --env Pendulum-v1 --seed $seed \\\n",
    "                                    --total_steps 20000 --start_steps 0 --eval_interval 1000 --n_eval_episodes 5 --replay_size 1000000 \\\n",
    "                                    --batch_size $bs --gamma 0.99 --tau $tau --lr 1e-3 \\\n",
    "                                    --alpha $alpha --automatic_entropy_tuning False --hidden_dim $hidden_dim"
   ]
  }
 ],
 "metadata": {
  "kernelspec": {
   "display_name": "Python 3 (ipykernel)",
   "language": "python",
   "name": "python3"
  },
  "language_info": {
   "codemirror_mode": {
    "name": "ipython",
    "version": 3
   },
   "file_extension": ".py",
   "mimetype": "text/x-python",
   "name": "python",
   "nbconvert_exporter": "python",
   "pygments_lexer": "ipython3",
   "version": "3.10.12"
  }
 },
 "nbformat": 4,
 "nbformat_minor": 5
}
