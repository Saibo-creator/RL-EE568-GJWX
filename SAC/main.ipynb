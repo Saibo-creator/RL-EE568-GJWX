{
 "cells": [
  {
   "cell_type": "code",
   "execution_count": null,
   "id": "18e164ae-8105-4fdf-9e6d-59579343cc82",
   "metadata": {},
   "outputs": [],
   "source": [
    "# !python sac.py --env MountainCarContinuous-v0 --seed 0 \\\n",
    "#                             --total_steps 250000 --start_steps 10000 --eval_interval 10000 --n_eval_episodes 5 --replay_size 1000000 \\\n",
    "#                             --batch_size 256 --gamma 0.99 --tau 0.005 --lr 3e-4 \\\n",
    "#                             --alpha 0.2 --automatic_entropy_tuning False --hidden_dim 256"
   ]
  },
  {
   "cell_type": "code",
   "execution_count": 2,
   "id": "54e34951-f7f1-4c1f-959a-554651d06836",
   "metadata": {},
   "outputs": [
    {
     "name": "stdout",
     "output_type": "stream",
     "text": [
      "\n",
      "\u001b[1m[\u001b[0m\u001b[34;49mnotice\u001b[0m\u001b[1;39;49m]\u001b[0m\u001b[39;49m A new release of pip is available: \u001b[0m\u001b[31;49m23.3\u001b[0m\u001b[39;49m -> \u001b[0m\u001b[32;49m25.1.1\u001b[0m\n",
      "\u001b[1m[\u001b[0m\u001b[34;49mnotice\u001b[0m\u001b[1;39;49m]\u001b[0m\u001b[39;49m To update, run: \u001b[0m\u001b[32;49mpython -m pip install --upgrade pip\u001b[0m\n"
     ]
    }
   ],
   "source": [
    "!pip install -q gymnasium"
   ]
  },
  {
   "cell_type": "code",
   "execution_count": null,
   "id": "a7e2702f-e03c-46b2-a10c-b411fc5eeda1",
   "metadata": {},
   "outputs": [],
   "source": [
    "for use_sde in [1]:\n",
    "    for train_freq in [32]:\n",
    "        for gradient_step_time in [1]:\n",
    "            for alpha in [0.1]:\n",
    "                # for lr in [3e-4]:\n",
    "                for bs in [1024, 2048]:\n",
    "                    for seed in [0, 42, 123, 3407]:\n",
    "                        gradient_step = 32 # int(train_freq * gradient_step_time * 512/bs)\n",
    "                        lr = bs/512 * 3e-4\n",
    "                        !python sac.py --env MountainCarContinuous-v0 --seed $seed \\\n",
    "                                                    --total_steps 50000 --start_steps 0 --eval_interval 1000 --n_eval_episodes 5 --replay_size 50000 \\\n",
    "                                                    --batch_size $bs --gamma 0.9999 --tau 0.01 --lr $lr --train_freq $train_freq --gradient_step $gradient_step \\\n",
    "                                                    --alpha $alpha --automatic_entropy_tuning False --hidden_dim 64 --use_sde $use_sde"
   ]
  },
  {
   "cell_type": "code",
   "execution_count": null,
   "id": "df588d26-d96f-4fcc-bc35-da781b332b75",
   "metadata": {},
   "outputs": [],
   "source": [
    "# for use_sde in [1]:\n",
    "#     for train_freq in [1, 16, 32]:\n",
    "#         for gradient_step_time in [1]:\n",
    "#             for alpha in [0.1]:\n",
    "#                 for lr in [3e-4]:\n",
    "#                     # for seed in [0, 123, 3407]:\n",
    "#                     for seed in [0, 42, 123, 3407, 12345]:\n",
    "#                         gradient_step = train_freq * gradient_step_time\n",
    "#                         !python sac.py --env MountainCarContinuous-v0 --seed $seed \\\n",
    "#                                                     --total_steps 50000 --start_steps 0 --eval_interval 1000 --n_eval_episodes 5 --replay_size 50000 \\\n",
    "#                                                     --batch_size 512 --gamma 0.9999 --tau 0.01 --lr $lr --train_freq $train_freq --gradient_step $gradient_step \\\n",
    "#                                                     --alpha $alpha --automatic_entropy_tuning False --hidden_dim 64 --use_sde $use_sde"
   ]
  },
  {
   "cell_type": "code",
   "execution_count": null,
   "id": "4717c45f-c266-4cb8-a7fa-363e80896883",
   "metadata": {},
   "outputs": [],
   "source": [
    "# for use_sde in [0]:\n",
    "#     for train_freq in [32]:\n",
    "#         for gradient_step_time in [1]:\n",
    "#             for alpha in [0.1]:\n",
    "#                 for lr in [3e-4]:\n",
    "#                     for seed in [0, 42, 123, 3407]: # 0, 123, \n",
    "#                         gradient_step = train_freq * gradient_step_time\n",
    "#                         !python sac.py --env MountainCarContinuous-v0 --seed $seed \\\n",
    "#                                                     --total_steps 50000 --start_steps 0 --eval_interval 1000 --n_eval_episodes 5 --replay_size 50000 \\\n",
    "#                                                     --batch_size 512 --gamma 0.9999 --tau 0.01 --lr $lr --train_freq $train_freq --gradient_step $gradient_step \\\n",
    "#                                                     --alpha $alpha --automatic_entropy_tuning False --hidden_dim 64 --use_sde $use_sde"
   ]
  },
  {
   "cell_type": "code",
   "execution_count": null,
   "id": "6a33d3de-1733-4951-bfe0-30ab0c8ed9d8",
   "metadata": {},
   "outputs": [],
   "source": [
    "# for use_sde in [1]:\n",
    "#     for train_freq in [32]:\n",
    "#         for gradient_step_time in [1]:\n",
    "#             for alpha in [0.1]:\n",
    "#                 for lr in [3e-4]:\n",
    "#                     for seed in [0, 42, 123, 3407, 12345]:\n",
    "#                         gradient_step = train_freq * gradient_step_time\n",
    "#                         !python sac.py --env MountainCarContinuous-v0 --seed $seed \\\n",
    "#                                                     --total_steps 50000 --start_steps 0 --eval_interval 1000 --n_eval_episodes 5 --replay_size 50000 \\\n",
    "#                                                     --batch_size 512 --gamma 0.9999 --tau 0.01 --lr $lr --train_freq $train_freq --gradient_step $gradient_step \\\n",
    "#                                                     --alpha $alpha --automatic_entropy_tuning False --hidden_dim 64 --use_sde $use_sde"
   ]
  },
  {
   "cell_type": "code",
   "execution_count": null,
   "id": "8a1d06bf-b0c7-4b10-a818-78d10cae546c",
   "metadata": {},
   "outputs": [],
   "source": [
    "# for use_sde in [1]:\n",
    "#     for train_freq in [32]:\n",
    "#         for gradient_step_time in [1]:\n",
    "#             for alpha in [0.1]:\n",
    "#                 for lr in [1e-4,2e-4,7e-4,1e-3]:\n",
    "#                     for seed in [0, 42, 123, 3407, 12345]:\n",
    "#                         gradient_step = train_freq * gradient_step_time\n",
    "#                         !python sac.py --env MountainCarContinuous-v0 --seed $seed \\\n",
    "#                                                     --total_steps 50000 --start_steps 0 --eval_interval 1000 --n_eval_episodes 5 --replay_size 50000 \\\n",
    "#                                                     --batch_size 512 --gamma 0.9999 --tau 0.01 --lr $lr --train_freq $train_freq --gradient_step $gradient_step \\\n",
    "#                                                     --alpha $alpha --automatic_entropy_tuning False --hidden_dim 64 --use_sde $use_sde"
   ]
  },
  {
   "cell_type": "code",
   "execution_count": 3,
   "id": "18cb1b8a-e25a-469b-91f8-7d2f790b307c",
   "metadata": {},
   "outputs": [
    {
     "name": "stdout",
     "output_type": "stream",
     "text": [
      "Using cuda device\n",
      "Logging to output/tb/SAC_1\n"
     ]
    },
    {
     "name": "stderr",
     "output_type": "stream",
     "text": [
      "\n",
      "KeyboardInterrupt\n",
      "\n"
     ]
    }
   ],
   "source": [
    "# for alpha in [0.01, 0.1, 1.0, 10.0]:\n",
    "#     !python sac.py --env Pendulum-v1 --seed 0 \\\n",
    "#                     --total_steps 20000 --start_steps 0 --eval_interval 1000 --n_eval_episodes 5 --replay_size 1000000 \\\n",
    "#                     --batch_size 256 --gamma 0.99 --tau 0.005 --lr 1e-3 \\\n",
    "#                     --alpha $alpha --automatic_entropy_tuning False --hidden_dim 256"
   ]
  },
  {
   "cell_type": "code",
   "execution_count": null,
   "id": "106998e9-ef84-4d40-b5bb-6bbdcce6fcdc",
   "metadata": {},
   "outputs": [],
   "source": []
  }
 ],
 "metadata": {
  "kernelspec": {
   "display_name": "Python 3 (ipykernel)",
   "language": "python",
   "name": "python3"
  },
  "language_info": {
   "codemirror_mode": {
    "name": "ipython",
    "version": 3
   },
   "file_extension": ".py",
   "mimetype": "text/x-python",
   "name": "python",
   "nbconvert_exporter": "python",
   "pygments_lexer": "ipython3",
   "version": "3.10.12"
  }
 },
 "nbformat": 4,
 "nbformat_minor": 5
}
